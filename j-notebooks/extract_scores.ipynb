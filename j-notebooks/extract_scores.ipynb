{
 "cells": [
  {
   "cell_type": "code",
   "execution_count": 15,
   "metadata": {},
   "outputs": [],
   "source": [
    "import datetime\n",
    "import glob\n",
    "def extract_scores(path, due_time):\n",
    "    i=0\n",
    "    for filename in glob.glob(path):\n",
    "        score=0; changes=0\n",
    "        with open(filename, 'r') as f:\n",
    "            partial_score=-1\n",
    "            attempts = 0\n",
    "            max_changes = 0\n",
    "            at_time = 0\n",
    "            prev_at_time = None\n",
    "            prev_score=0; \n",
    "            max_change_score=0\n",
    "            for line in f:\n",
    "                if line.find('UTC')!=-1:\n",
    "                    attempts += 1\n",
    "                    date_time = datetime.datetime.strptime(line, '%a %b %d %H:%M:%S UTC %Y: ')\n",
    "\n",
    "                    if prev_at_time != None: \n",
    "                        seconds = (date_time - prev_at_time).total_seconds()\n",
    "                        if seconds<1800: at_time += seconds\n",
    "\n",
    "                    prev_at_time = date_time \n",
    "                    if(due_time < date_time): break\n",
    "                if line.find('total_score')!=-1:\n",
    "                    prev_score=score\n",
    "                    score = int(line.split()[1].split('/')[0])\n",
    "                    if score>partial_score: partial_score=score\n",
    "                    if changes > max_changes and score-prev_score > 0: \n",
    "                        max_changes= changes\n",
    "                        max_change_score = score-prev_score;\n",
    "                if line.find('heap.c |')!=-1:\n",
    "                    changes = int(line.split()[2])\n",
    "\n",
    "\n",
    "            print(filename.split('\\\\')[1], \"\\t score:\", partial_score, \"\\tattempts:\", attempts, \"\\ttotal_time:\",round(at_time/60))           "
   ]
  },
  {
   "cell_type": "markdown",
   "metadata": {},
   "source": [
    "### Avance Lab"
   ]
  },
  {
   "cell_type": "code",
   "execution_count": 20,
   "metadata": {},
   "outputs": [
    {
     "name": "stdout",
     "output_type": "stream",
     "text": [
      "Acdiel \t score: 70 \tattempts: 6 \ttotal_time: 2\n",
      "AlexOttoVicencio \t score: 50 \tattempts: 51 \ttotal_time: 267\n",
      "antoanais \t score: 70 \tattempts: 13 \ttotal_time: 70\n",
      "AquilesDiosT \t score: 70 \tattempts: 75 \ttotal_time: 204\n",
      "bryan404 \t score: 70 \tattempts: 31 \ttotal_time: 131\n",
      "CarlosR759 \t score: 70 \tattempts: 38 \ttotal_time: 132\n",
      "chk-P \t score: 70 \tattempts: 1 \ttotal_time: 0\n",
      "DarienPacheco \t score: 70 \tattempts: 11 \ttotal_time: 69\n",
      "DaylanStay \t score: 70 \tattempts: 35 \ttotal_time: 89\n",
      "ebelleng \t score: 70 \tattempts: 37 \ttotal_time: 73\n",
      "Eddgaroto \t score: -1 \tattempts: 73 \ttotal_time: 86\n",
      "Esteban-688 \t score: -1 \tattempts: 1 \ttotal_time: 0\n",
      "eyl-lana \t score: 70 \tattempts: 88 \ttotal_time: 220\n",
      "F3L1P30 \t score: 70 \tattempts: 80 \ttotal_time: 230\n",
      "FelipeAriasA \t score: -1 \tattempts: 1 \ttotal_time: 0\n",
      "FelixLazcano \t score: 20 \tattempts: 2 \ttotal_time: 0\n",
      "Idolatrine \t score: 10 \tattempts: 3 \ttotal_time: 22\n",
      "Ivan-galaz \t score: 70 \tattempts: 24 \ttotal_time: 83\n",
      "JeftePonce \t score: 70 \tattempts: 3 \ttotal_time: 6\n",
      "jnachoo \t score: 70 \tattempts: 78 \ttotal_time: 291\n",
      "JoseOlguin01 \t score: 70 \tattempts: 34 \ttotal_time: 138\n",
      "K4pocha \t score: 70 \tattempts: 12 \ttotal_time: 27\n",
      "kevin-meza-toro \t score: 70 \tattempts: 36 \ttotal_time: 90\n",
      "LaVolpeChalo \t score: 70 \tattempts: 142 \ttotal_time: 311\n",
      "Leftzara \t score: 70 \tattempts: 3 \ttotal_time: 2\n",
      "Lucas042002 \t score: 70 \tattempts: 41 \ttotal_time: 105\n",
      "MatiG2109 \t score: 70 \tattempts: 8 \ttotal_time: 10\n",
      "matilobster \t score: 70 \tattempts: 12 \ttotal_time: 83\n",
      "melamito \t score: 30 \tattempts: 4 \ttotal_time: 15\n",
      "Nachitzu \t score: 70 \tattempts: 58 \ttotal_time: 166\n",
      "NathaliaTrigo \t score: 50 \tattempts: 17 \ttotal_time: 73\n",
      "nicoacuna10 \t score: 70 \tattempts: 6 \ttotal_time: 39\n",
      "nicobrevis \t score: 40 \tattempts: 78 \ttotal_time: 172\n",
      "Nikob1 \t score: -1 \tattempts: 1 \ttotal_time: 0\n",
      "NivekNK \t score: 70 \tattempts: 30 \ttotal_time: 131\n",
      "OkitaDev \t score: 70 \tattempts: 190 \ttotal_time: 336\n",
      "Pipasoo \t score: 50 \tattempts: 7 \ttotal_time: 27\n",
      "prindoxx \t score: 70 \tattempts: 20 \ttotal_time: 84\n",
      "ribrl \t score: -1 \tattempts: 1 \ttotal_time: 0\n",
      "rilianx \t score: 10 \tattempts: 1 \ttotal_time: 0\n",
      "Sashiiii \t score: 70 \tattempts: 38 \ttotal_time: 123\n",
      "SebaVac \t score: 70 \tattempts: 7 \ttotal_time: 9\n",
      "shyp0 \t score: 70 \tattempts: 33 \ttotal_time: 132\n",
      "Soulhae \t score: 70 \tattempts: 24 \ttotal_time: 85\n",
      "speedysw \t score: 70 \tattempts: 63 \ttotal_time: 234\n",
      "suazo-jara \t score: 70 \tattempts: 42 \ttotal_time: 103\n",
      "thetonijua \t score: 20 \tattempts: 14 \ttotal_time: 48\n",
      "TioPanxo \t score: 40 \tattempts: 17 \ttotal_time: 66\n",
      "UnaCuentaFalsaMas \t score: 70 \tattempts: 7 \ttotal_time: 51\n",
      "vicho-bece \t score: 70 \tattempts: 34 \ttotal_time: 168\n",
      "XTrAnE \t score: 30 \tattempts: 6 \ttotal_time: 69\n"
     ]
    }
   ],
   "source": [
    "path = \"PointersAndStruct-Lab-03-28-2021-12-39-43/*/log\"\n",
    "due_time = datetime.datetime.strptime('Fri Mar 19 21:00:00 UTC 2021: ', '%a %b %d %H:%M:%S UTC %Y: ')\n",
    "extract_scores(path,due_time)"
   ]
  },
  {
   "cell_type": "markdown",
   "metadata": {},
   "source": [
    "### Final Lab"
   ]
  },
  {
   "cell_type": "code",
   "execution_count": 28,
   "metadata": {},
   "outputs": [
    {
     "name": "stdout",
     "output_type": "stream",
     "text": [
      "Acdiel \t score: 70 \tattempts: 6 \ttotal_time: 2\n",
      "AlexOttoVicencio \t score: 70 \tattempts: 71 \ttotal_time: 333\n",
      "antoanais \t score: 70 \tattempts: 13 \ttotal_time: 70\n",
      "AquilesDiosT \t score: 70 \tattempts: 75 \ttotal_time: 204\n",
      "bryan404 \t score: 70 \tattempts: 33 \ttotal_time: 140\n",
      "CarlosR759 \t score: 70 \tattempts: 38 \ttotal_time: 132\n",
      "chk-P \t score: 70 \tattempts: 1 \ttotal_time: 0\n",
      "DarienPacheco \t score: 70 \tattempts: 11 \ttotal_time: 69\n",
      "DaylanStay \t score: 70 \tattempts: 35 \ttotal_time: 89\n",
      "ebelleng \t score: 70 \tattempts: 37 \ttotal_time: 73\n",
      "Eddgaroto \t score: 70 \tattempts: 100 \ttotal_time: 203\n",
      "Esteban-688 \t score: 20 \tattempts: 2 \ttotal_time: 29\n",
      "eyl-lana \t score: 70 \tattempts: 88 \ttotal_time: 220\n",
      "F3L1P30 \t score: 70 \tattempts: 83 \ttotal_time: 233\n",
      "FelipeAriasA \t score: 70 \tattempts: 17 \ttotal_time: 132\n",
      "FelixLazcano \t score: 70 \tattempts: 2 \ttotal_time: 0\n",
      "Idolatrine \t score: 70 \tattempts: 36 \ttotal_time: 87\n",
      "Ivan-galaz \t score: 70 \tattempts: 24 \ttotal_time: 83\n",
      "JeftePonce \t score: 70 \tattempts: 3 \ttotal_time: 6\n",
      "jnachoo \t score: 70 \tattempts: 81 \ttotal_time: 292\n",
      "JoseOlguin01 \t score: 70 \tattempts: 34 \ttotal_time: 138\n",
      "K4pocha \t score: 70 \tattempts: 12 \ttotal_time: 27\n",
      "kevin-meza-toro \t score: 70 \tattempts: 42 \ttotal_time: 111\n",
      "LaVolpeChalo \t score: 70 \tattempts: 142 \ttotal_time: 311\n",
      "Leftzara \t score: 70 \tattempts: 3 \ttotal_time: 2\n",
      "Lucas042002 \t score: 70 \tattempts: 41 \ttotal_time: 105\n",
      "MatiG2109 \t score: 70 \tattempts: 8 \ttotal_time: 10\n",
      "matilobster \t score: 70 \tattempts: 12 \ttotal_time: 83\n",
      "melamito \t score: 30 \tattempts: 4 \ttotal_time: 15\n",
      "Nachitzu \t score: 70 \tattempts: 58 \ttotal_time: 166\n",
      "NathaliaTrigo \t score: 70 \tattempts: 18 \ttotal_time: 96\n",
      "nicoacuna10 \t score: 70 \tattempts: 6 \ttotal_time: 39\n",
      "nicobrevis \t score: 70 \tattempts: 123 \ttotal_time: 354\n",
      "Nikob1 \t score: 70 \tattempts: 9 \ttotal_time: 64\n",
      "NivekNK \t score: 70 \tattempts: 30 \ttotal_time: 131\n",
      "OkitaDev \t score: 70 \tattempts: 190 \ttotal_time: 336\n",
      "Pipasoo \t score: 60 \tattempts: 7 \ttotal_time: 27\n",
      "prindoxx \t score: 70 \tattempts: 20 \ttotal_time: 84\n",
      "ribrl \t score: 70 \tattempts: 52 \ttotal_time: -1281\n",
      "rilianx \t score: 10 \tattempts: 1 \ttotal_time: 0\n",
      "Sashiiii \t score: 70 \tattempts: 38 \ttotal_time: 123\n",
      "SebaVac \t score: 70 \tattempts: 7 \ttotal_time: 9\n",
      "shyp0 \t score: 70 \tattempts: 34 \ttotal_time: 132\n",
      "Soulhae \t score: 70 \tattempts: 24 \ttotal_time: 85\n",
      "speedysw \t score: 70 \tattempts: 63 \ttotal_time: 234\n",
      "suazo-jara \t score: 70 \tattempts: 42 \ttotal_time: 103\n",
      "thetonijua \t score: 70 \tattempts: 40 \ttotal_time: 124\n",
      "TioPanxo \t score: 70 \tattempts: 39 \ttotal_time: 123\n",
      "UnaCuentaFalsaMas \t score: 70 \tattempts: 7 \ttotal_time: 51\n",
      "vicho-bece \t score: 70 \tattempts: 34 \ttotal_time: 168\n",
      "XTrAnE \t score: 70 \tattempts: 46 \ttotal_time: 191\n"
     ]
    }
   ],
   "source": [
    "path = \"PointersAndStruct-Lab-03-28-2021-12-39-43/*/log\"\n",
    "#Revisión jueves por la mañana...\n",
    "due_time = datetime.datetime.strptime('Thu Mar 25 08:00:00 UTC 2021: ', '%a %b %d %H:%M:%S UTC %Y: ')\n",
    "extract_scores(path,due_time)"
   ]
  },
  {
   "cell_type": "code",
   "execution_count": null,
   "metadata": {},
   "outputs": [],
   "source": []
  }
 ],
 "metadata": {
  "kernelspec": {
   "display_name": "Python 3",
   "language": "python",
   "name": "python3"
  },
  "language_info": {
   "codemirror_mode": {
    "name": "ipython",
    "version": 3
   },
   "file_extension": ".py",
   "mimetype": "text/x-python",
   "name": "python",
   "nbconvert_exporter": "python",
   "pygments_lexer": "ipython3",
   "version": "3.7.3"
  }
 },
 "nbformat": 4,
 "nbformat_minor": 4
}
